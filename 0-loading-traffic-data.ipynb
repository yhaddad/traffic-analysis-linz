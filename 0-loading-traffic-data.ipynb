{
 "cells": [
  {
   "cell_type": "markdown",
   "metadata": {
    "deletable": true,
    "editable": true
   },
   "source": [
    "## Retriveing Linz traffic data\n",
    "\n",
    "\n",
    "Before we start the exploration of the traffic data and test different traffic forecast model, we need to retrive the data and put in a form of time series using pandas library and then we can just dump the result on cvs file for a finer analysis."
   ]
  },
  {
   "cell_type": "code",
   "execution_count": 1,
   "metadata": {
    "collapsed": false,
    "deletable": true,
    "editable": true
   },
   "outputs": [],
   "source": [
    "import urllib, json, objectpath\n",
    "from pprint import pprint"
   ]
  },
  {
   "cell_type": "code",
   "execution_count": 2,
   "metadata": {
    "collapsed": true,
    "deletable": true,
    "editable": true
   },
   "outputs": [],
   "source": [
    "def get_data(route):\n",
    "    response = urllib.urlopen('http://pendlr.risc-software.at/log?id=[\"%s\"]&num=100000' % route)\n",
    "    data = json.loads(response.read())\n",
    "    tree_obj = objectpath.Tree(data)\n",
    "    return tuple(tree_obj.execute('$..entries'))\n",
    "def get_route():\n",
    "    response = urllib.urlopen('http://pendlr.risc-software.at/log?num=100000')\n",
    "    data = json.loads(response.read())\n",
    "    tree_obj = objectpath.Tree(data)\n",
    "    return tuple(tree_obj.execute('$..id'))"
   ]
  },
  {
   "cell_type": "markdown",
   "metadata": {
    "deletable": true,
    "editable": true
   },
   "source": [
    "The methods above will return json files with the relevent inforamtion, the routes names and the corresponding json. After that we will translate the data into a pandas dataframe."
   ]
  },
  {
   "cell_type": "code",
   "execution_count": 3,
   "metadata": {
    "collapsed": false,
    "deletable": true,
    "editable": true
   },
   "outputs": [
    {
     "name": "stdout",
     "output_type": "stream",
     "text": [
      "-- route :  cur.traun.b1.traffic.risc-software.at\n",
      "-- route :  cur.zentrum.b129.traffic.risc-software.at\n",
      "-- route :  cur.bindermichl.b1.traffic.risc-software.at\n",
      "-- route :  cur.franzosenhausweg.knotenlinz.traffic.risc-software.at\n",
      "-- route :  cur.einwaerts.bindermichl.traffic.risc-software.at\n",
      "-- route :  cur.urfahr.b127.traffic.risc-software.at\n",
      "-- route :  cur.einwaerts.haselgraben.traffic.risc-software.at\n",
      "-- route :  cur.florianerstrasse.knotenlinz.traffic.risc-software.at\n",
      "-- route :  cur.auswaerts.haselgraben.traffic.risc-software.at\n",
      "-- route :  cur.linz.autobahnbruecke.traffic.risc-software.at\n",
      "-- route :  cur.linz.steyreggerbruecke.traffic.risc-software.at\n",
      "-- route :  cur.zentrum.nibelungenbruecke.traffic.risc-software.at\n",
      "-- route :  cur.rohrbach.b127.traffic.risc-software.at\n",
      "-- route :  cur.urfahr.nibelungenbruecke.traffic.risc-software.at\n",
      "-- route :  cur.wilhering.b129.traffic.risc-software.at\n",
      "-- route :  cur.steyregg.steyreggerbruecke.traffic.risc-software.at\n",
      "-- route :  cur.urfahr.autobahnbruecke.traffic.risc-software.at\n",
      "-- route :  cur.auswaerts.bindermichl.traffic.risc-software.at\n",
      "-- route :  cur.haid.knotenlinz.traffic.risc-software.at\n"
     ]
    }
   ],
   "source": [
    "routes = get_route()\n",
    "cur_data   = {}\n",
    "\n",
    "for r in routes :\n",
    "    if 'cur.' in r:\n",
    "        print \"-- route : \", r\n",
    "        cur_data[r] = get_data(r)"
   ]
  },
  {
   "cell_type": "markdown",
   "metadata": {
    "deletable": true,
    "editable": true
   },
   "source": [
    "From the retrived JSON we can select only the most usefull features for us :\n",
    "\n",
    "```json\n",
    "{u'attrs': {\n",
    "      'average_speed'            : 39.6,\n",
    "      'delay'                    : 8,\n",
    "      'delayed_average_speed'    : 39.6,\n",
    "      'total_distance'           : 4084,\n",
    "      'total_duration'           : 359,\n",
    "      'total_duration_in_traffic': 367\n",
    "      }\n",
    "}\n",
    "```\n",
    "\n",
    "For example the `total_duration` and `duration` are shown be on the same values."
   ]
  },
  {
   "cell_type": "code",
   "execution_count": 4,
   "metadata": {
    "collapsed": false,
    "deletable": true,
    "editable": true
   },
   "outputs": [],
   "source": [
    "import pandas as pd \n",
    "from pandas.io.json import json_normalize"
   ]
  },
  {
   "cell_type": "markdown",
   "metadata": {},
   "source": [
    "To translate into a pandas dataframe, we will use a very usefull tool from pandas called json_normalize that create a data frame for us for free."
   ]
  },
  {
   "cell_type": "code",
   "execution_count": 5,
   "metadata": {
    "collapsed": false,
    "deletable": true,
    "editable": true
   },
   "outputs": [
    {
     "name": "stdout",
     "output_type": "stream",
     "text": [
      "-- route :  cur.wilhering.b129.traffic.risc-software.at\n",
      "-- route :  cur.zentrum.nibelungenbruecke.traffic.risc-software.at\n",
      "-- route :  cur.haid.knotenlinz.traffic.risc-software.at\n",
      "-- route :  cur.bindermichl.b1.traffic.risc-software.at\n",
      "-- route :  cur.urfahr.autobahnbruecke.traffic.risc-software.at\n",
      "-- route :  cur.florianerstrasse.knotenlinz.traffic.risc-software.at\n",
      "-- route :  cur.urfahr.nibelungenbruecke.traffic.risc-software.at\n",
      "-- route :  cur.urfahr.b127.traffic.risc-software.at\n",
      "-- route :  cur.rohrbach.b127.traffic.risc-software.at\n",
      "-- route :  cur.franzosenhausweg.knotenlinz.traffic.risc-software.at\n",
      "-- route :  cur.zentrum.b129.traffic.risc-software.at\n",
      "-- route :  cur.linz.autobahnbruecke.traffic.risc-software.at\n",
      "-- route :  cur.linz.steyreggerbruecke.traffic.risc-software.at\n",
      "-- route :  cur.einwaerts.haselgraben.traffic.risc-software.at\n",
      "-- route :  cur.einwaerts.bindermichl.traffic.risc-software.at\n",
      "-- route :  cur.traun.b1.traffic.risc-software.at\n",
      "-- route :  cur.auswaerts.haselgraben.traffic.risc-software.at\n",
      "-- route :  cur.steyregg.steyreggerbruecke.traffic.risc-software.at\n",
      "-- route :  cur.auswaerts.bindermichl.traffic.risc-software.at\n"
     ]
    }
   ],
   "source": [
    "cur_df = {}\n",
    "for c in cur_data:\n",
    "    print '-- route : ', c\n",
    "    cur_df[c] = json_normalize(cur_data[c])"
   ]
  },
  {
   "cell_type": "markdown",
   "metadata": {
    "deletable": true,
    "editable": true
   },
   "source": [
    "After the normalisation of the json file, to make it easy to read, someone can use one root to extract the all the available features. But earlier we showed the most interetsing features so we are going to take those as the feature that we want to analyse"
   ]
  },
  {
   "cell_type": "code",
   "execution_count": 6,
   "metadata": {
    "collapsed": false,
    "deletable": true,
    "editable": true
   },
   "outputs": [],
   "source": [
    "feat_traffic =  [\n",
    "    'time',\n",
    "    'data.attrs.delay'                    ,\n",
    "    'data.attrs.average_speed'            ,\n",
    "    'data.attrs.delayed_average_speed'    ,\n",
    "    'data.attrs.total_distance'           ,\n",
    "    'data.attrs.total_duration'           ,\n",
    "    'data.attrs.total_duration_in_traffic'\n",
    "]"
   ]
  },
  {
   "cell_type": "markdown",
   "metadata": {
    "deletable": true,
    "editable": true
   },
   "source": [
    "As we can see we have different features names that have the radical \"data.attrs\" on it, and also we need to translate the linux time into date and hours. This will simplifiy the manipulation of the time series and help us understand the data. "
   ]
  },
  {
   "cell_type": "code",
   "execution_count": 7,
   "metadata": {
    "collapsed": false,
    "deletable": true,
    "editable": true
   },
   "outputs": [],
   "source": [
    "import numpy as np\n",
    "\n",
    "df_routes = {}\n",
    "for i,c in cur_df.items():\n",
    "    _df_ = c\n",
    "    _df_['time'] = pd.to_datetime(_df_['ts']/1000.0, unit='s')\n",
    "    df_routes[i] = _df_[feat_traffic]"
   ]
  },
  {
   "cell_type": "code",
   "execution_count": 8,
   "metadata": {
    "collapsed": false,
    "deletable": true,
    "editable": true
   },
   "outputs": [],
   "source": [
    "import time\n",
    "from dateutil import parser, rrule\n",
    "from datetime import datetime, time, date\n",
    "\n",
    "def uniformise_dataframe(data = pd.DataFrame()):\n",
    "    print \"shape :: \", data.shape\n",
    "    data_copy = data\n",
    "    data_copy.is_copy = False\n",
    "    data_copy['minute'] = data_copy.time.apply(lambda x: datetime(x.year, x.month, x.day, x.hour, x.minute) )\n",
    "    data_copy = data_copy.reset_index().groupby(['minute']).mean()\n",
    "    data_copy.reset_index(inplace=True)\n",
    "    data_copy = data_copy.set_index(data_copy.minute.values)\n",
    "    data_copy = data_copy.drop('minute', 1)\n",
    "    data_copy = data_copy.drop('index' , 1)\n",
    "    columns  = []\n",
    "    for col in data_copy.columns:\n",
    "        if 'data.attrs.' in col :\n",
    "            data_copy[col.replace('data.attrs.','')] = data_copy[col] \n",
    "            columns.append(col.replace('data.attrs.',''))\n",
    "        else:\n",
    "            columns.append(col)\n",
    "    return data_copy[columns]"
   ]
  },
  {
   "cell_type": "code",
   "execution_count": 9,
   "metadata": {
    "collapsed": false,
    "deletable": true,
    "editable": true,
    "scrolled": false
   },
   "outputs": [
    {
     "name": "stdout",
     "output_type": "stream",
     "text": [
      "shape ::  (15391, 7)\n",
      "shape ::  (15391, 7)\n",
      "shape ::  (15391, 7)\n",
      "shape ::  (15391, 7)\n",
      "shape ::  (15392, 7)\n",
      "shape ::  (15388, 7)\n",
      "shape ::  (15390, 7)\n",
      "shape ::  (15390, 7)\n",
      "shape ::  (15392, 7)\n",
      "shape ::  (15392, 7)\n",
      "shape ::  (15392, 7)\n",
      "shape ::  (15389, 7)\n",
      "shape ::  (15392, 7)\n",
      "shape ::  (15392, 7)\n",
      "shape ::  (15391, 7)\n",
      "shape ::  (15390, 7)\n",
      "shape ::  (15390, 7)\n",
      "shape ::  (15391, 7)\n",
      "shape ::  (15391, 7)\n"
     ]
    }
   ],
   "source": [
    "for i in df_routes.keys():\n",
    "    df_routes[i] = uniformise_dataframe(df_routes[i])"
   ]
  },
  {
   "cell_type": "markdown",
   "metadata": {},
   "source": [
    "Now let have a look on one root data frame and check that we are going in the right direction."
   ]
  },
  {
   "cell_type": "code",
   "execution_count": 10,
   "metadata": {
    "collapsed": false
   },
   "outputs": [
    {
     "data": {
      "text/html": [
       "<div>\n",
       "<table border=\"1\" class=\"dataframe\">\n",
       "  <thead>\n",
       "    <tr style=\"text-align: right;\">\n",
       "      <th></th>\n",
       "      <th>delay</th>\n",
       "      <th>average_speed</th>\n",
       "      <th>delayed_average_speed</th>\n",
       "      <th>total_distance</th>\n",
       "      <th>total_duration</th>\n",
       "      <th>total_duration_in_traffic</th>\n",
       "    </tr>\n",
       "  </thead>\n",
       "  <tbody>\n",
       "    <tr>\n",
       "      <th>2016-12-21 13:30:00</th>\n",
       "      <td>0</td>\n",
       "      <td>39.6</td>\n",
       "      <td>43.2</td>\n",
       "      <td>4316</td>\n",
       "      <td>362</td>\n",
       "      <td>356</td>\n",
       "    </tr>\n",
       "    <tr>\n",
       "      <th>2016-12-21 13:40:00</th>\n",
       "      <td>0</td>\n",
       "      <td>39.6</td>\n",
       "      <td>43.2</td>\n",
       "      <td>4316</td>\n",
       "      <td>362</td>\n",
       "      <td>359</td>\n",
       "    </tr>\n",
       "    <tr>\n",
       "      <th>2016-12-21 13:50:00</th>\n",
       "      <td>0</td>\n",
       "      <td>39.6</td>\n",
       "      <td>39.6</td>\n",
       "      <td>4316</td>\n",
       "      <td>362</td>\n",
       "      <td>361</td>\n",
       "    </tr>\n",
       "    <tr>\n",
       "      <th>2016-12-21 13:51:00</th>\n",
       "      <td>0</td>\n",
       "      <td>39.6</td>\n",
       "      <td>43.2</td>\n",
       "      <td>4316</td>\n",
       "      <td>362</td>\n",
       "      <td>355</td>\n",
       "    </tr>\n",
       "    <tr>\n",
       "      <th>2016-12-21 14:01:00</th>\n",
       "      <td>0</td>\n",
       "      <td>39.6</td>\n",
       "      <td>43.2</td>\n",
       "      <td>4316</td>\n",
       "      <td>362</td>\n",
       "      <td>358</td>\n",
       "    </tr>\n",
       "  </tbody>\n",
       "</table>\n",
       "</div>"
      ],
      "text/plain": [
       "                     delay  average_speed  delayed_average_speed  \\\n",
       "2016-12-21 13:30:00      0           39.6                   43.2   \n",
       "2016-12-21 13:40:00      0           39.6                   43.2   \n",
       "2016-12-21 13:50:00      0           39.6                   39.6   \n",
       "2016-12-21 13:51:00      0           39.6                   43.2   \n",
       "2016-12-21 14:01:00      0           39.6                   43.2   \n",
       "\n",
       "                     total_distance  total_duration  total_duration_in_traffic  \n",
       "2016-12-21 13:30:00            4316             362                        356  \n",
       "2016-12-21 13:40:00            4316             362                        359  \n",
       "2016-12-21 13:50:00            4316             362                        361  \n",
       "2016-12-21 13:51:00            4316             362                        355  \n",
       "2016-12-21 14:01:00            4316             362                        358  "
      ]
     },
     "execution_count": 10,
     "metadata": {},
     "output_type": "execute_result"
    }
   ],
   "source": [
    "df_routes['cur.wilhering.b129.traffic.risc-software.at'].head()"
   ]
  },
  {
   "cell_type": "markdown",
   "metadata": {
    "deletable": true,
    "editable": true
   },
   "source": [
    "This looks perfect !"
   ]
  },
  {
   "cell_type": "markdown",
   "metadata": {},
   "source": [
    "## Saving the data"
   ]
  },
  {
   "cell_type": "markdown",
   "metadata": {
    "deletable": true,
    "editable": true
   },
   "source": [
    "Now let build some seasonal features such as :\n",
    "* day of the year \n",
    "* hour in the day : we know that there is a reccurences during the day on the delay, for example when going for work\n",
    "* day of the week : the delay should be different from weekend day then a working day"
   ]
  },
  {
   "cell_type": "code",
   "execution_count": 11,
   "metadata": {
    "collapsed": true,
    "deletable": true,
    "editable": true
   },
   "outputs": [],
   "source": [
    "feat_time = ['day','dow','hod','working_day']\n",
    "\n",
    "def fill_timefeatures(data = pd.DataFrame()):\n",
    "    print \"shape :: \", data.shape\n",
    "    data_copy         = data\n",
    "    data_copy.is_copy = False\n",
    "    data_copy['day' ] = data.index.date\n",
    "    data_copy['dow' ] = data.index.weekday   \n",
    "    data_copy['hod' ] = data.index.hour\n",
    "    # Is each time stamp on a working day (Mon-Fri)\n",
    "    data_copy['working_day'] = (data_copy['dow'] >= 0) & (data_copy['dow'] <= 4)\n",
    "    return data_copy"
   ]
  },
  {
   "cell_type": "code",
   "execution_count": 12,
   "metadata": {
    "collapsed": true
   },
   "outputs": [],
   "source": [
    "import os\n",
    "if not os.path.exists('./data'):\n",
    "    os.makedirs('./data')"
   ]
  },
  {
   "cell_type": "code",
   "execution_count": 13,
   "metadata": {
    "collapsed": false,
    "deletable": true,
    "editable": true
   },
   "outputs": [
    {
     "name": "stdout",
     "output_type": "stream",
     "text": [
      "shape ::  (15391, 6)\n",
      "shape ::  (15391, 6)\n",
      "shape ::  (15391, 6)\n",
      "shape ::  (15391, 6)\n",
      "shape ::  (15392, 6)\n",
      "shape ::  (15388, 6)\n",
      "shape ::  (15390, 6)\n",
      "shape ::  (15390, 6)\n",
      "shape ::  (15392, 6)\n",
      "shape ::  (15392, 6)\n",
      "shape ::  (15392, 6)\n",
      "shape ::  (15389, 6)\n",
      "shape ::  (15392, 6)\n",
      "shape ::  (15392, 6)\n",
      "shape ::  (15391, 6)\n",
      "shape ::  (15390, 6)\n",
      "shape ::  (15390, 6)\n",
      "shape ::  (15391, 6)\n",
      "shape ::  (15391, 6)\n"
     ]
    }
   ],
   "source": [
    "for i in df_routes.keys():\n",
    "    df_routes[i] = fill_timefeatures(df_routes[i])\n",
    "    df_routes[i].to_csv( './data/' + i + '.csv')"
   ]
  },
  {
   "cell_type": "markdown",
   "metadata": {
    "deletable": true,
    "editable": true
   },
   "source": [
    "Now we have a set of data to work with and test different model and so on. Of course this method can be adpated for the real time model."
   ]
  }
 ],
 "metadata": {
  "kernelspec": {
   "display_name": "Python 2",
   "language": "python",
   "name": "python2"
  },
  "language_info": {
   "codemirror_mode": {
    "name": "ipython",
    "version": 2
   },
   "file_extension": ".py",
   "mimetype": "text/x-python",
   "name": "python",
   "nbconvert_exporter": "python",
   "pygments_lexer": "ipython2",
   "version": "2.7.12"
  }
 },
 "nbformat": 4,
 "nbformat_minor": 1
}
