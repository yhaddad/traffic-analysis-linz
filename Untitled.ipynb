{
 "cells": [
  {
   "cell_type": "code",
   "execution_count": 2,
   "metadata": {
    "collapsed": false
   },
   "outputs": [
    {
     "name": "stderr",
     "output_type": "stream",
     "text": [
      "OpenWeather.do_request(): No connection. (1. attempt)\n",
      "OpenWeather.do_request(): No connection. (2. attempt)\n",
      "OpenWeather.do_request(): No connection. (3. attempt)\n"
     ]
    },
    {
     "ename": "TypeError",
     "evalue": "'NoneType' object is not iterable",
     "output_type": "error",
     "traceback": [
      "\u001b[0;31m---------------------------------------------------------------------------\u001b[0m",
      "\u001b[0;31mTypeError\u001b[0m                                 Traceback (most recent call last)",
      "\u001b[0;32m<ipython-input-2-2fc2757ed2ad>\u001b[0m in \u001b[0;36m<module>\u001b[0;34m()\u001b[0m\n\u001b[1;32m     13\u001b[0m \u001b[0;34m\u001b[0m\u001b[0m\n\u001b[1;32m     14\u001b[0m \u001b[0;31m# iterate results\u001b[0m\u001b[0;34m\u001b[0m\u001b[0;34m\u001b[0m\u001b[0m\n\u001b[0;32m---> 15\u001b[0;31m \u001b[0;32mfor\u001b[0m \u001b[0mstation\u001b[0m \u001b[0;32min\u001b[0m \u001b[0mstations\u001b[0m\u001b[0;34m:\u001b[0m\u001b[0;34m\u001b[0m\u001b[0m\n\u001b[0m\u001b[1;32m     16\u001b[0m     \u001b[0;32mprint\u001b[0m \u001b[0mstation\u001b[0m\u001b[0;34m\u001b[0m\u001b[0m\n\u001b[1;32m     17\u001b[0m \u001b[0;34m\u001b[0m\u001b[0m\n",
      "\u001b[0;31mTypeError\u001b[0m: 'NoneType' object is not iterable"
     ]
    }
   ],
   "source": [
    "import openweather\n",
    "from datetime import datetime\n",
    "\n",
    "# create client\n",
    "ow = openweather.OpenWeather()\n",
    "\n",
    "# find weather stations near me\n",
    "stations = ow.find_stations_near(\n",
    "    7.0,  # longitude\n",
    "    50.0, # latitude\n",
    "    100   # kilometer radius\n",
    ")\n",
    "\n",
    "# iterate results\n",
    "for station in stations:\n",
    "    print station\n",
    "\n",
    "# get current weather at Cologne/Bonn airport\n",
    "# (station id = 4885)\n",
    "print ow.get_weather(4885)\n",
    "\n",
    "# historic weather\n",
    "start_date = datetime(2013, 9, 10)\n",
    "end_date = datetime(2013, 9, 15)\n",
    "\n",
    "# default: hourly interval\n",
    "print ow.get_historic_weather(4885, start_date, end_date)\n",
    "\n",
    "# daily aggregates\n",
    "print ow.get_historic_weather(4885, start_date, end_date, \"day\")"
   ]
  },
  {
   "cell_type": "code",
   "execution_count": null,
   "metadata": {
    "collapsed": true
   },
   "outputs": [],
   "source": []
  }
 ],
 "metadata": {
  "kernelspec": {
   "display_name": "Python 2",
   "language": "python",
   "name": "python2"
  },
  "language_info": {
   "codemirror_mode": {
    "name": "ipython",
    "version": 2
   },
   "file_extension": ".py",
   "mimetype": "text/x-python",
   "name": "python",
   "nbconvert_exporter": "python",
   "pygments_lexer": "ipython2",
   "version": "2.7.12"
  }
 },
 "nbformat": 4,
 "nbformat_minor": 2
}
